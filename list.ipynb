{
 "cells": [
  {
   "cell_type": "markdown",
   "metadata": {},
   "source": [
    "List are very important, and they are used for multiple purposes, lets review the list and popular methods to use. "
   ]
  },
  {
   "cell_type": "code",
   "execution_count": 8,
   "metadata": {},
   "outputs": [
    {
     "name": "stdout",
     "output_type": "stream",
     "text": [
      "['apple', 'orange', 'banana', 'peaches', 'berries']\n",
      "['apple', 'orange', 'banana', 'peaches']\n",
      "['muffins', 'apple', 'orange', 'banana', 'peaches']\n",
      "peaches\n",
      "apple\n",
      "['apple', 'orange']\n",
      "['muffins', 'apple', 'orange']\n",
      "muffins\n",
      "apple\n"
     ]
    }
   ],
   "source": [
    "\n",
    "list = ['apple', 'orange', 'banana', 'peaches']\n",
    "list.append(\"berries\")\n",
    "print(list)\n",
    "\n",
    "list.pop()\n",
    "print(list)\n",
    "\n",
    "list.insert(0,\"muffins\")\n",
    "print(list)\n",
    "\n",
    "print(list[-1])\n",
    "print(list[1])\n",
    "print(list[1:3])\n",
    "print(list[:3])\n",
    "print(list[0])\n",
    "print(list[1])\n"
   ]
  }
 ],
 "metadata": {
  "kernelspec": {
   "display_name": "Python 3",
   "language": "python",
   "name": "python3"
  },
  "language_info": {
   "codemirror_mode": {
    "name": "ipython",
    "version": 3
   },
   "file_extension": ".py",
   "mimetype": "text/x-python",
   "name": "python",
   "nbconvert_exporter": "python",
   "pygments_lexer": "ipython3",
   "version": "3.11.1"
  }
 },
 "nbformat": 4,
 "nbformat_minor": 2
}
