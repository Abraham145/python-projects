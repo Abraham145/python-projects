{
 "cells": [
  {
   "cell_type": "markdown",
   "metadata": {},
   "source": [
    "iterators allowed you to access items in the list and run operations on them"
   ]
  },
  {
   "cell_type": "code",
   "execution_count": 9,
   "metadata": {},
   "outputs": [
    {
     "name": "stdout",
     "output_type": "stream",
     "text": [
      "infiniti\n",
      "bmw\n",
      "honda\n",
      "tesla\n"
     ]
    }
   ],
   "source": [
    "cars = ['infiniti', 'bmw', 'honda', 'tesla' ]\n",
    "\n",
    "for car in cars:\n",
    "    print(car)\n",
    "\n",
    "\n",
    "\n"
   ]
  },
  {
   "cell_type": "markdown",
   "metadata": {},
   "source": [
    "let us use the range function: this is use to provide an pre-determined sequence. "
   ]
  },
  {
   "cell_type": "code",
   "execution_count": 12,
   "metadata": {},
   "outputs": [
    {
     "name": "stdout",
     "output_type": "stream",
     "text": [
      "0\n",
      "1\n",
      "2\n",
      "this is for a range from 0 to 3\n",
      "4\n",
      "5\n",
      "6\n",
      "7\n",
      "this is for a range between 4 and 8\n",
      "1\n",
      "3\n",
      "5\n",
      "7\n",
      "9\n",
      "11\n",
      "this is for a range between 1 and 12 but skip by 2\n"
     ]
    }
   ],
   "source": [
    "for value in range(3):\n",
    "    print(value)\n",
    "print(\"this is for a range from 0 to 3\")\n",
    "\n",
    "for value in range(4,8):\n",
    "    print(value)\n",
    "print(\"this is for a range between 4 and 8\")\n",
    "\n",
    "for value in range(1,12,2):\n",
    "    print(value)\n",
    "print(\"this is for a range between 1 and 12 but skip by 2\")"
   ]
  }
 ],
 "metadata": {
  "kernelspec": {
   "display_name": "Python 3",
   "language": "python",
   "name": "python3"
  },
  "language_info": {
   "codemirror_mode": {
    "name": "ipython",
    "version": 3
   },
   "file_extension": ".py",
   "mimetype": "text/x-python",
   "name": "python",
   "nbconvert_exporter": "python",
   "pygments_lexer": "ipython3",
   "version": "3.11.1"
  }
 },
 "nbformat": 4,
 "nbformat_minor": 2
}
