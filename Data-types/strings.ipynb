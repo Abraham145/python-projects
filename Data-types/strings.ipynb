{
 "cells": [
  {
   "cell_type": "markdown",
   "metadata": {},
   "source": [
    "Let's play with multiple string functions"
   ]
  },
  {
   "cell_type": "code",
   "execution_count": 18,
   "metadata": {},
   "outputs": [
    {
     "name": "stdout",
     "output_type": "stream",
     "text": [
      "HELLO WORLD OF PYTHON LEARNING   \n",
      "hello world of python learning   \n",
      "spaces\n",
      "['hello', 'world', 'of', 'python', 'learning']\n",
      "False\n",
      "0\n",
      "hello\n"
     ]
    }
   ],
   "source": [
    "name =  \"hello world of python learning   \"\n",
    "\n",
    "print(name.upper())\n",
    "print(name.lower())\n",
    "\n",
    "name_2 = \"    spaces   \"\n",
    "\n",
    "print(name_2.strip())\n",
    "print(name.split())\n",
    "print(name.startswith(\"  hello\"))\n",
    "print(name.index(\"hello\"))\n",
    "print(name[0:5])"
   ]
  },
  {
   "cell_type": "markdown",
   "metadata": {},
   "source": [
    "These are a series of examples of all of the things that we can do with strings."
   ]
  }
 ],
 "metadata": {
  "kernelspec": {
   "display_name": "Python 3",
   "language": "python",
   "name": "python3"
  },
  "language_info": {
   "codemirror_mode": {
    "name": "ipython",
    "version": 3
   },
   "file_extension": ".py",
   "mimetype": "text/x-python",
   "name": "python",
   "nbconvert_exporter": "python",
   "pygments_lexer": "ipython3",
   "version": "3.11.1"
  }
 },
 "nbformat": 4,
 "nbformat_minor": 2
}
